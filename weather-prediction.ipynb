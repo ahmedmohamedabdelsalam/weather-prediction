{
 "cells": [
  {
   "cell_type": "code",
   "execution_count": 1,
   "id": "064c4537",
   "metadata": {
    "_cell_guid": "b1076dfc-b9ad-4769-8c92-a6c4dae69d19",
    "_uuid": "8f2839f25d086af736a60e9eeb907d3b93b6e0e5",
    "execution": {
     "iopub.execute_input": "2024-04-02T00:11:57.942553Z",
     "iopub.status.busy": "2024-04-02T00:11:57.941777Z",
     "iopub.status.idle": "2024-04-02T00:12:01.238175Z",
     "shell.execute_reply": "2024-04-02T00:12:01.236712Z"
    },
    "papermill": {
     "duration": 3.308957,
     "end_time": "2024-04-02T00:12:01.240757",
     "exception": false,
     "start_time": "2024-04-02T00:11:57.931800",
     "status": "completed"
    },
    "tags": []
   },
   "outputs": [
    {
     "name": "stdout",
     "output_type": "stream",
     "text": [
      "/kaggle/input/weather-prediction/seattle-weather.csv\n"
     ]
    }
   ],
   "source": [
    "# This Python 3 environment comes with many helpful analytics libraries installed\n",
    "# It is defined by the kaggle/python Docker image: https://github.com/kaggle/docker-python\n",
    "# For example, here's several helpful packages to load\n",
    "\n",
    "import numpy as np # linear algebra\n",
    "import pandas as pd # data processing, CSV file I/O (e.g. pd.read_csv)\n",
    "import matplotlib.pyplot as plt\n",
    "import seaborn as sns\n",
    "from sklearn.metrics import accuracy_score\n",
    "from sklearn.preprocessing import LabelEncoder\n",
    "from sklearn.preprocessing import StandardScaler\n",
    "from sklearn.model_selection import train_test_split\n",
    "from sklearn.tree import DecisionTreeClassifier\n",
    "from sklearn.metrics import mean_squared_error\n",
    "\n",
    "# Input data files are available in the read-only \"../input/\" directory\n",
    "# For example, running this (by clicking run or pressing Shift+Enter) will list all files under the input directory\n",
    "\n",
    "import os\n",
    "for dirname, _, filenames in os.walk('/kaggle/input'):\n",
    "    for filename in filenames:\n",
    "        print(os.path.join(dirname, filename))\n",
    "\n",
    "# You can write up to 20GB to the current directory (/kaggle/working/) that gets preserved as output when you create a version using \"Save & Run All\" \n",
    "# You can also write temporary files to /kaggle/temp/, but they won't be saved outside of the current session"
   ]
  },
  {
   "cell_type": "code",
   "execution_count": 2,
   "id": "0a51475b",
   "metadata": {
    "execution": {
     "iopub.execute_input": "2024-04-02T00:12:01.258628Z",
     "iopub.status.busy": "2024-04-02T00:12:01.257998Z",
     "iopub.status.idle": "2024-04-02T00:12:01.308913Z",
     "shell.execute_reply": "2024-04-02T00:12:01.307717Z"
    },
    "papermill": {
     "duration": 0.062358,
     "end_time": "2024-04-02T00:12:01.311342",
     "exception": false,
     "start_time": "2024-04-02T00:12:01.248984",
     "status": "completed"
    },
    "tags": []
   },
   "outputs": [
    {
     "data": {
      "text/html": [
       "<div>\n",
       "<style scoped>\n",
       "    .dataframe tbody tr th:only-of-type {\n",
       "        vertical-align: middle;\n",
       "    }\n",
       "\n",
       "    .dataframe tbody tr th {\n",
       "        vertical-align: top;\n",
       "    }\n",
       "\n",
       "    .dataframe thead th {\n",
       "        text-align: right;\n",
       "    }\n",
       "</style>\n",
       "<table border=\"1\" class=\"dataframe\">\n",
       "  <thead>\n",
       "    <tr style=\"text-align: right;\">\n",
       "      <th></th>\n",
       "      <th>date</th>\n",
       "      <th>precipitation</th>\n",
       "      <th>temp_max</th>\n",
       "      <th>temp_min</th>\n",
       "      <th>wind</th>\n",
       "      <th>weather</th>\n",
       "    </tr>\n",
       "  </thead>\n",
       "  <tbody>\n",
       "    <tr>\n",
       "      <th>0</th>\n",
       "      <td>2012-01-01</td>\n",
       "      <td>0.0</td>\n",
       "      <td>12.8</td>\n",
       "      <td>5.0</td>\n",
       "      <td>4.7</td>\n",
       "      <td>drizzle</td>\n",
       "    </tr>\n",
       "    <tr>\n",
       "      <th>1</th>\n",
       "      <td>2012-01-02</td>\n",
       "      <td>10.9</td>\n",
       "      <td>10.6</td>\n",
       "      <td>2.8</td>\n",
       "      <td>4.5</td>\n",
       "      <td>rain</td>\n",
       "    </tr>\n",
       "    <tr>\n",
       "      <th>2</th>\n",
       "      <td>2012-01-03</td>\n",
       "      <td>0.8</td>\n",
       "      <td>11.7</td>\n",
       "      <td>7.2</td>\n",
       "      <td>2.3</td>\n",
       "      <td>rain</td>\n",
       "    </tr>\n",
       "    <tr>\n",
       "      <th>3</th>\n",
       "      <td>2012-01-04</td>\n",
       "      <td>20.3</td>\n",
       "      <td>12.2</td>\n",
       "      <td>5.6</td>\n",
       "      <td>4.7</td>\n",
       "      <td>rain</td>\n",
       "    </tr>\n",
       "    <tr>\n",
       "      <th>4</th>\n",
       "      <td>2012-01-05</td>\n",
       "      <td>1.3</td>\n",
       "      <td>8.9</td>\n",
       "      <td>2.8</td>\n",
       "      <td>6.1</td>\n",
       "      <td>rain</td>\n",
       "    </tr>\n",
       "    <tr>\n",
       "      <th>...</th>\n",
       "      <td>...</td>\n",
       "      <td>...</td>\n",
       "      <td>...</td>\n",
       "      <td>...</td>\n",
       "      <td>...</td>\n",
       "      <td>...</td>\n",
       "    </tr>\n",
       "    <tr>\n",
       "      <th>1456</th>\n",
       "      <td>2015-12-27</td>\n",
       "      <td>8.6</td>\n",
       "      <td>4.4</td>\n",
       "      <td>1.7</td>\n",
       "      <td>2.9</td>\n",
       "      <td>rain</td>\n",
       "    </tr>\n",
       "    <tr>\n",
       "      <th>1457</th>\n",
       "      <td>2015-12-28</td>\n",
       "      <td>1.5</td>\n",
       "      <td>5.0</td>\n",
       "      <td>1.7</td>\n",
       "      <td>1.3</td>\n",
       "      <td>rain</td>\n",
       "    </tr>\n",
       "    <tr>\n",
       "      <th>1458</th>\n",
       "      <td>2015-12-29</td>\n",
       "      <td>0.0</td>\n",
       "      <td>7.2</td>\n",
       "      <td>0.6</td>\n",
       "      <td>2.6</td>\n",
       "      <td>fog</td>\n",
       "    </tr>\n",
       "    <tr>\n",
       "      <th>1459</th>\n",
       "      <td>2015-12-30</td>\n",
       "      <td>0.0</td>\n",
       "      <td>5.6</td>\n",
       "      <td>-1.0</td>\n",
       "      <td>3.4</td>\n",
       "      <td>sun</td>\n",
       "    </tr>\n",
       "    <tr>\n",
       "      <th>1460</th>\n",
       "      <td>2015-12-31</td>\n",
       "      <td>0.0</td>\n",
       "      <td>5.6</td>\n",
       "      <td>-2.1</td>\n",
       "      <td>3.5</td>\n",
       "      <td>sun</td>\n",
       "    </tr>\n",
       "  </tbody>\n",
       "</table>\n",
       "<p>1461 rows × 6 columns</p>\n",
       "</div>"
      ],
      "text/plain": [
       "            date  precipitation  temp_max  temp_min  wind  weather\n",
       "0     2012-01-01            0.0      12.8       5.0   4.7  drizzle\n",
       "1     2012-01-02           10.9      10.6       2.8   4.5     rain\n",
       "2     2012-01-03            0.8      11.7       7.2   2.3     rain\n",
       "3     2012-01-04           20.3      12.2       5.6   4.7     rain\n",
       "4     2012-01-05            1.3       8.9       2.8   6.1     rain\n",
       "...          ...            ...       ...       ...   ...      ...\n",
       "1456  2015-12-27            8.6       4.4       1.7   2.9     rain\n",
       "1457  2015-12-28            1.5       5.0       1.7   1.3     rain\n",
       "1458  2015-12-29            0.0       7.2       0.6   2.6      fog\n",
       "1459  2015-12-30            0.0       5.6      -1.0   3.4      sun\n",
       "1460  2015-12-31            0.0       5.6      -2.1   3.5      sun\n",
       "\n",
       "[1461 rows x 6 columns]"
      ]
     },
     "execution_count": 2,
     "metadata": {},
     "output_type": "execute_result"
    }
   ],
   "source": [
    "# load dataset\n",
    "data = pd.read_csv(\"/kaggle/input/weather-prediction/seattle-weather.csv\")\n",
    "data"
   ]
  },
  {
   "cell_type": "markdown",
   "id": "c3fc3acb",
   "metadata": {
    "papermill": {
     "duration": 0.007521,
     "end_time": "2024-04-02T00:12:01.327327",
     "exception": false,
     "start_time": "2024-04-02T00:12:01.319806",
     "status": "completed"
    },
    "tags": []
   },
   "source": [
    "# Data Preprocessing"
   ]
  },
  {
   "cell_type": "code",
   "execution_count": 3,
   "id": "302e1860",
   "metadata": {
    "execution": {
     "iopub.execute_input": "2024-04-02T00:12:01.346344Z",
     "iopub.status.busy": "2024-04-02T00:12:01.345308Z",
     "iopub.status.idle": "2024-04-02T00:12:01.356517Z",
     "shell.execute_reply": "2024-04-02T00:12:01.355354Z"
    },
    "papermill": {
     "duration": 0.023094,
     "end_time": "2024-04-02T00:12:01.358893",
     "exception": false,
     "start_time": "2024-04-02T00:12:01.335799",
     "status": "completed"
    },
    "tags": []
   },
   "outputs": [
    {
     "data": {
      "text/plain": [
       "date             0\n",
       "precipitation    0\n",
       "temp_max         0\n",
       "temp_min         0\n",
       "wind             0\n",
       "weather          0\n",
       "dtype: int64"
      ]
     },
     "execution_count": 3,
     "metadata": {},
     "output_type": "execute_result"
    }
   ],
   "source": [
    "data.isnull().sum()"
   ]
  },
  {
   "cell_type": "code",
   "execution_count": 4,
   "id": "e3d6ff7b",
   "metadata": {
    "execution": {
     "iopub.execute_input": "2024-04-02T00:12:01.377588Z",
     "iopub.status.busy": "2024-04-02T00:12:01.376516Z",
     "iopub.status.idle": "2024-04-02T00:12:01.394089Z",
     "shell.execute_reply": "2024-04-02T00:12:01.392850Z"
    },
    "papermill": {
     "duration": 0.029761,
     "end_time": "2024-04-02T00:12:01.396742",
     "exception": false,
     "start_time": "2024-04-02T00:12:01.366981",
     "status": "completed"
    },
    "tags": []
   },
   "outputs": [
    {
     "data": {
      "text/html": [
       "<div>\n",
       "<style scoped>\n",
       "    .dataframe tbody tr th:only-of-type {\n",
       "        vertical-align: middle;\n",
       "    }\n",
       "\n",
       "    .dataframe tbody tr th {\n",
       "        vertical-align: top;\n",
       "    }\n",
       "\n",
       "    .dataframe thead th {\n",
       "        text-align: right;\n",
       "    }\n",
       "</style>\n",
       "<table border=\"1\" class=\"dataframe\">\n",
       "  <thead>\n",
       "    <tr style=\"text-align: right;\">\n",
       "      <th></th>\n",
       "      <th>date</th>\n",
       "      <th>precipitation</th>\n",
       "      <th>temp_max</th>\n",
       "      <th>temp_min</th>\n",
       "      <th>wind</th>\n",
       "      <th>weather</th>\n",
       "    </tr>\n",
       "  </thead>\n",
       "  <tbody>\n",
       "    <tr>\n",
       "      <th>0</th>\n",
       "      <td>2012-01-01</td>\n",
       "      <td>0.0</td>\n",
       "      <td>12.8</td>\n",
       "      <td>5.0</td>\n",
       "      <td>4.7</td>\n",
       "      <td>drizzle</td>\n",
       "    </tr>\n",
       "    <tr>\n",
       "      <th>1</th>\n",
       "      <td>2012-01-02</td>\n",
       "      <td>10.9</td>\n",
       "      <td>10.6</td>\n",
       "      <td>2.8</td>\n",
       "      <td>4.5</td>\n",
       "      <td>rain</td>\n",
       "    </tr>\n",
       "    <tr>\n",
       "      <th>2</th>\n",
       "      <td>2012-01-03</td>\n",
       "      <td>0.8</td>\n",
       "      <td>11.7</td>\n",
       "      <td>7.2</td>\n",
       "      <td>2.3</td>\n",
       "      <td>rain</td>\n",
       "    </tr>\n",
       "    <tr>\n",
       "      <th>3</th>\n",
       "      <td>2012-01-04</td>\n",
       "      <td>20.3</td>\n",
       "      <td>12.2</td>\n",
       "      <td>5.6</td>\n",
       "      <td>4.7</td>\n",
       "      <td>rain</td>\n",
       "    </tr>\n",
       "    <tr>\n",
       "      <th>4</th>\n",
       "      <td>2012-01-05</td>\n",
       "      <td>1.3</td>\n",
       "      <td>8.9</td>\n",
       "      <td>2.8</td>\n",
       "      <td>6.1</td>\n",
       "      <td>rain</td>\n",
       "    </tr>\n",
       "    <tr>\n",
       "      <th>...</th>\n",
       "      <td>...</td>\n",
       "      <td>...</td>\n",
       "      <td>...</td>\n",
       "      <td>...</td>\n",
       "      <td>...</td>\n",
       "      <td>...</td>\n",
       "    </tr>\n",
       "    <tr>\n",
       "      <th>1456</th>\n",
       "      <td>2015-12-27</td>\n",
       "      <td>8.6</td>\n",
       "      <td>4.4</td>\n",
       "      <td>1.7</td>\n",
       "      <td>2.9</td>\n",
       "      <td>rain</td>\n",
       "    </tr>\n",
       "    <tr>\n",
       "      <th>1457</th>\n",
       "      <td>2015-12-28</td>\n",
       "      <td>1.5</td>\n",
       "      <td>5.0</td>\n",
       "      <td>1.7</td>\n",
       "      <td>1.3</td>\n",
       "      <td>rain</td>\n",
       "    </tr>\n",
       "    <tr>\n",
       "      <th>1458</th>\n",
       "      <td>2015-12-29</td>\n",
       "      <td>0.0</td>\n",
       "      <td>7.2</td>\n",
       "      <td>0.6</td>\n",
       "      <td>2.6</td>\n",
       "      <td>fog</td>\n",
       "    </tr>\n",
       "    <tr>\n",
       "      <th>1459</th>\n",
       "      <td>2015-12-30</td>\n",
       "      <td>0.0</td>\n",
       "      <td>5.6</td>\n",
       "      <td>-1.0</td>\n",
       "      <td>3.4</td>\n",
       "      <td>sun</td>\n",
       "    </tr>\n",
       "    <tr>\n",
       "      <th>1460</th>\n",
       "      <td>2015-12-31</td>\n",
       "      <td>0.0</td>\n",
       "      <td>5.6</td>\n",
       "      <td>-2.1</td>\n",
       "      <td>3.5</td>\n",
       "      <td>sun</td>\n",
       "    </tr>\n",
       "  </tbody>\n",
       "</table>\n",
       "<p>1461 rows × 6 columns</p>\n",
       "</div>"
      ],
      "text/plain": [
       "            date  precipitation  temp_max  temp_min  wind  weather\n",
       "0     2012-01-01            0.0      12.8       5.0   4.7  drizzle\n",
       "1     2012-01-02           10.9      10.6       2.8   4.5     rain\n",
       "2     2012-01-03            0.8      11.7       7.2   2.3     rain\n",
       "3     2012-01-04           20.3      12.2       5.6   4.7     rain\n",
       "4     2012-01-05            1.3       8.9       2.8   6.1     rain\n",
       "...          ...            ...       ...       ...   ...      ...\n",
       "1456  2015-12-27            8.6       4.4       1.7   2.9     rain\n",
       "1457  2015-12-28            1.5       5.0       1.7   1.3     rain\n",
       "1458  2015-12-29            0.0       7.2       0.6   2.6      fog\n",
       "1459  2015-12-30            0.0       5.6      -1.0   3.4      sun\n",
       "1460  2015-12-31            0.0       5.6      -2.1   3.5      sun\n",
       "\n",
       "[1461 rows x 6 columns]"
      ]
     },
     "execution_count": 4,
     "metadata": {},
     "output_type": "execute_result"
    }
   ],
   "source": [
    "data"
   ]
  },
  {
   "cell_type": "code",
   "execution_count": 5,
   "id": "0dcd4886",
   "metadata": {
    "execution": {
     "iopub.execute_input": "2024-04-02T00:12:01.416620Z",
     "iopub.status.busy": "2024-04-02T00:12:01.415923Z",
     "iopub.status.idle": "2024-04-02T00:12:01.429917Z",
     "shell.execute_reply": "2024-04-02T00:12:01.429005Z"
    },
    "papermill": {
     "duration": 0.027084,
     "end_time": "2024-04-02T00:12:01.432607",
     "exception": false,
     "start_time": "2024-04-02T00:12:01.405523",
     "status": "completed"
    },
    "tags": []
   },
   "outputs": [
    {
     "data": {
      "text/plain": [
       "weather\n",
       "rain       641\n",
       "sun        640\n",
       "fog        101\n",
       "drizzle     53\n",
       "snow        26\n",
       "Name: count, dtype: int64"
      ]
     },
     "execution_count": 5,
     "metadata": {},
     "output_type": "execute_result"
    }
   ],
   "source": [
    "# Count the occurrences of each weather category in the 'weather' column\n",
    "data[\"weather\"].value_counts()"
   ]
  },
  {
   "cell_type": "markdown",
   "id": "67a53af6",
   "metadata": {
    "papermill": {
     "duration": 0.008105,
     "end_time": "2024-04-02T00:12:01.449547",
     "exception": false,
     "start_time": "2024-04-02T00:12:01.441442",
     "status": "completed"
    },
    "tags": []
   },
   "source": [
    "# Data visualization"
   ]
  },
  {
   "cell_type": "code",
   "execution_count": 6,
   "id": "4f3539b3",
   "metadata": {
    "execution": {
     "iopub.execute_input": "2024-04-02T00:12:01.470168Z",
     "iopub.status.busy": "2024-04-02T00:12:01.469452Z",
     "iopub.status.idle": "2024-04-02T00:12:01.789345Z",
     "shell.execute_reply": "2024-04-02T00:12:01.788027Z"
    },
    "papermill": {
     "duration": 0.333106,
     "end_time": "2024-04-02T00:12:01.792211",
     "exception": false,
     "start_time": "2024-04-02T00:12:01.459105",
     "status": "completed"
    },
    "tags": []
   },
   "outputs": [
    {
     "data": {
      "image/png": "[encoded data removed]",
      "text/plain": [
       "<Figure size 640x480 with 1 Axes>"
      ]
     },
     "metadata": {},
     "output_type": "display_data"
    }
   ],
   "source": [
    "plt.hist(data['temp_max'])\n",
    "plt.title('Maximum Temperature Distribution')\n",
    "plt.xlabel('Temperature')\n",
    "plt.ylabel('Frequency')\n",
    "plt.show()"
   ]
  },
  {
   "cell_type": "code",
   "execution_count": 7,
   "id": "ef291836",
   "metadata": {
    "execution": {
     "iopub.execute_input": "2024-04-02T00:12:01.811509Z",
     "iopub.status.busy": "2024-04-02T00:12:01.811043Z",
     "iopub.status.idle": "2024-04-02T00:12:02.100972Z",
     "shell.execute_reply": "2024-04-02T00:12:02.099702Z"
    },
    "papermill": {
     "duration": 0.302681,
     "end_time": "2024-04-02T00:12:02.103679",
     "exception": false,
     "start_time": "2024-04-02T00:12:01.800998",
     "status": "completed"
    },
    "tags": []
   },
   "outputs": [
    {
     "data": {
      "image/png": "[encoded data removed]",
      "text/plain": [
       "<Figure size 640x480 with 1 Axes>"
      ]
     },
     "metadata": {},
     "output_type": "display_data"
    }
   ],
   "source": [
    "plt.scatter(data['temp_max'], data['precipitation'])\n",
    "plt.title('Maximum Temperature vs Precipitation')\n",
    "plt.xlabel('Maximum Temperature')\n",
    "plt.ylabel('Precipitation')\n",
    "plt.show()"
   ]
  },
  {
   "cell_type": "code",
   "execution_count": 8,
   "id": "022ac27c",
   "metadata": {
    "execution": {
     "iopub.execute_input": "2024-04-02T00:12:02.124373Z",
     "iopub.status.busy": "2024-04-02T00:12:02.123529Z",
     "iopub.status.idle": "2024-04-02T00:12:02.389507Z",
     "shell.execute_reply": "2024-04-02T00:12:02.388169Z"
    },
    "papermill": {
     "duration": 0.279359,
     "end_time": "2024-04-02T00:12:02.392369",
     "exception": false,
     "start_time": "2024-04-02T00:12:02.113010",
     "status": "completed"
    },
    "tags": []
   },
   "outputs": [
    {
     "data": {
      "image/png": "[encoded data removed]",
      "text/plain": [
       "<Figure size 640x480 with 1 Axes>"
      ]
     },
     "metadata": {},
     "output_type": "display_data"
    }
   ],
   "source": [
    "plt.scatter(data['temp_min'], data['precipitation'])\n",
    "plt.title('Minimum Temperature vs Precipitation')\n",
    "plt.xlabel('Minimum Temperature')\n",
    "plt.ylabel('Precipitation')\n",
    "plt.show()"
   ]
  },
  {
   "cell_type": "code",
   "execution_count": 9,
   "id": "91ad34ad",
   "metadata": {
    "execution": {
     "iopub.execute_input": "2024-04-02T00:12:02.413923Z",
     "iopub.status.busy": "2024-04-02T00:12:02.413501Z",
     "iopub.status.idle": "2024-04-02T00:12:02.836648Z",
     "shell.execute_reply": "2024-04-02T00:12:02.835338Z"
    },
    "papermill": {
     "duration": 0.4382,
     "end_time": "2024-04-02T00:12:02.840583",
     "exception": false,
     "start_time": "2024-04-02T00:12:02.402383",
     "status": "completed"
    },
    "tags": []
   },
   "outputs": [
    {
     "data": {
      "image/png": "[encoded data removed]",
      "text/plain": [
       "<Figure size 1000x600 with 1 Axes>"
      ]
     },
     "metadata": {},
     "output_type": "display_data"
    }
   ],
   "source": [
    "data['date'] = pd.to_datetime(data['date'])\n",
    "plt.figure(figsize=(10,6))\n",
    "plt.plot(data['date'], data['temp_max'])\n",
    "plt.title('Maximum Temperature Over Time')\n",
    "plt.xlabel('Date')\n",
    "plt.ylabel('Maximum Temperature')\n",
    "\n",
    "plt.show()"
   ]
  },
  {
   "cell_type": "markdown",
   "id": "0c5d56fc",
   "metadata": {
    "papermill": {
     "duration": 0.01148,
     "end_time": "2024-04-02T00:12:02.863907",
     "exception": false,
     "start_time": "2024-04-02T00:12:02.852427",
     "status": "completed"
    },
    "tags": []
   },
   "source": [
    "\n",
    "# Feature Engineering"
   ]
  },
  {
   "cell_type": "code",
   "execution_count": 10,
   "id": "fb2131c3",
   "metadata": {
    "execution": {
     "iopub.execute_input": "2024-04-02T00:12:02.888350Z",
     "iopub.status.busy": "2024-04-02T00:12:02.887930Z",
     "iopub.status.idle": "2024-04-02T00:12:02.902194Z",
     "shell.execute_reply": "2024-04-02T00:12:02.900949Z"
    },
    "papermill": {
     "duration": 0.029176,
     "end_time": "2024-04-02T00:12:02.904312",
     "exception": false,
     "start_time": "2024-04-02T00:12:02.875136",
     "status": "completed"
    },
    "tags": []
   },
   "outputs": [
    {
     "name": "stdout",
     "output_type": "stream",
     "text": [
      "datetime64[ns]\n"
     ]
    }
   ],
   "source": [
    "# Check the data type of the 'date' column\n",
    "print(data['date'].dtypes)\n",
    "\n",
    "# Convert 'date' column to datetime format\n",
    "data['date'] = pd.to_datetime(data['date'])\n",
    "\n",
    "# Extract year, month, and day features\n",
    "data['year'] = data['date'].dt.year\n",
    "data['month'] = data['date'].dt.month\n",
    "data['day'] = data['date'].dt.day\n"
   ]
  },
  {
   "cell_type": "code",
   "execution_count": 11,
   "id": "5ef337af",
   "metadata": {
    "execution": {
     "iopub.execute_input": "2024-04-02T00:12:02.929193Z",
     "iopub.status.busy": "2024-04-02T00:12:02.928770Z",
     "iopub.status.idle": "2024-04-02T00:12:02.949347Z",
     "shell.execute_reply": "2024-04-02T00:12:02.947783Z"
    },
    "papermill": {
     "duration": 0.036925,
     "end_time": "2024-04-02T00:12:02.953193",
     "exception": false,
     "start_time": "2024-04-02T00:12:02.916268",
     "status": "completed"
    },
    "tags": []
   },
   "outputs": [
    {
     "name": "stdout",
     "output_type": "stream",
     "text": [
      "<class 'pandas.core.frame.DataFrame'>\n",
      "RangeIndex: 1461 entries, 0 to 1460\n",
      "Data columns (total 9 columns):\n",
      " #   Column         Non-Null Count  Dtype         \n",
      "---  ------         --------------  -----         \n",
      " 0   date           1461 non-null   datetime64[ns]\n",
      " 1   precipitation  1461 non-null   float64       \n",
      " 2   temp_max       1461 non-null   float64       \n",
      " 3   temp_min       1461 non-null   float64       \n",
      " 4   wind           1461 non-null   float64       \n",
      " 5   weather        1461 non-null   object        \n",
      " 6   year           1461 non-null   int32         \n",
      " 7   month          1461 non-null   int32         \n",
      " 8   day            1461 non-null   int32         \n",
      "dtypes: datetime64[ns](1), float64(4), int32(3), object(1)\n",
      "memory usage: 85.7+ KB\n"
     ]
    }
   ],
   "source": [
    "# Display information about the DataFrame after modifications\n",
    "data.info()"
   ]
  },
  {
   "cell_type": "code",
   "execution_count": 12,
   "id": "0fce7bb5",
   "metadata": {
    "execution": {
     "iopub.execute_input": "2024-04-02T00:12:02.982374Z",
     "iopub.status.busy": "2024-04-02T00:12:02.981993Z",
     "iopub.status.idle": "2024-04-02T00:12:03.005034Z",
     "shell.execute_reply": "2024-04-02T00:12:03.003551Z"
    },
    "papermill": {
     "duration": 0.04078,
     "end_time": "2024-04-02T00:12:03.007602",
     "exception": false,
     "start_time": "2024-04-02T00:12:02.966822",
     "status": "completed"
    },
    "tags": []
   },
   "outputs": [
    {
     "data": {
      "text/html": [
       "<div>\n",
       "<style scoped>\n",
       "    .dataframe tbody tr th:only-of-type {\n",
       "        vertical-align: middle;\n",
       "    }\n",
       "\n",
       "    .dataframe tbody tr th {\n",
       "        vertical-align: top;\n",
       "    }\n",
       "\n",
       "    .dataframe thead th {\n",
       "        text-align: right;\n",
       "    }\n",
       "</style>\n",
       "<table border=\"1\" class=\"dataframe\">\n",
       "  <thead>\n",
       "    <tr style=\"text-align: right;\">\n",
       "      <th></th>\n",
       "      <th>date</th>\n",
       "      <th>precipitation</th>\n",
       "      <th>temp_max</th>\n",
       "      <th>temp_min</th>\n",
       "      <th>wind</th>\n",
       "      <th>weather</th>\n",
       "      <th>year</th>\n",
       "      <th>month</th>\n",
       "      <th>day</th>\n",
       "    </tr>\n",
       "  </thead>\n",
       "  <tbody>\n",
       "    <tr>\n",
       "      <th>0</th>\n",
       "      <td>2012-01-01</td>\n",
       "      <td>0.0</td>\n",
       "      <td>12.8</td>\n",
       "      <td>5.0</td>\n",
       "      <td>4.7</td>\n",
       "      <td>drizzle</td>\n",
       "      <td>2012</td>\n",
       "      <td>1</td>\n",
       "      <td>1</td>\n",
       "    </tr>\n",
       "    <tr>\n",
       "      <th>1</th>\n",
       "      <td>2012-01-02</td>\n",
       "      <td>10.9</td>\n",
       "      <td>10.6</td>\n",
       "      <td>2.8</td>\n",
       "      <td>4.5</td>\n",
       "      <td>rain</td>\n",
       "      <td>2012</td>\n",
       "      <td>1</td>\n",
       "      <td>2</td>\n",
       "    </tr>\n",
       "    <tr>\n",
       "      <th>2</th>\n",
       "      <td>2012-01-03</td>\n",
       "      <td>0.8</td>\n",
       "      <td>11.7</td>\n",
       "      <td>7.2</td>\n",
       "      <td>2.3</td>\n",
       "      <td>rain</td>\n",
       "      <td>2012</td>\n",
       "      <td>1</td>\n",
       "      <td>3</td>\n",
       "    </tr>\n",
       "    <tr>\n",
       "      <th>3</th>\n",
       "      <td>2012-01-04</td>\n",
       "      <td>20.3</td>\n",
       "      <td>12.2</td>\n",
       "      <td>5.6</td>\n",
       "      <td>4.7</td>\n",
       "      <td>rain</td>\n",
       "      <td>2012</td>\n",
       "      <td>1</td>\n",
       "      <td>4</td>\n",
       "    </tr>\n",
       "    <tr>\n",
       "      <th>4</th>\n",
       "      <td>2012-01-05</td>\n",
       "      <td>1.3</td>\n",
       "      <td>8.9</td>\n",
       "      <td>2.8</td>\n",
       "      <td>6.1</td>\n",
       "      <td>rain</td>\n",
       "      <td>2012</td>\n",
       "      <td>1</td>\n",
       "      <td>5</td>\n",
       "    </tr>\n",
       "    <tr>\n",
       "      <th>...</th>\n",
       "      <td>...</td>\n",
       "      <td>...</td>\n",
       "      <td>...</td>\n",
       "      <td>...</td>\n",
       "      <td>...</td>\n",
       "      <td>...</td>\n",
       "      <td>...</td>\n",
       "      <td>...</td>\n",
       "      <td>...</td>\n",
       "    </tr>\n",
       "    <tr>\n",
       "      <th>1456</th>\n",
       "      <td>2015-12-27</td>\n",
       "      <td>8.6</td>\n",
       "      <td>4.4</td>\n",
       "      <td>1.7</td>\n",
       "      <td>2.9</td>\n",
       "      <td>rain</td>\n",
       "      <td>2015</td>\n",
       "      <td>12</td>\n",
       "      <td>27</td>\n",
       "    </tr>\n",
       "    <tr>\n",
       "      <th>1457</th>\n",
       "      <td>2015-12-28</td>\n",
       "      <td>1.5</td>\n",
       "      <td>5.0</td>\n",
       "      <td>1.7</td>\n",
       "      <td>1.3</td>\n",
       "      <td>rain</td>\n",
       "      <td>2015</td>\n",
       "      <td>12</td>\n",
       "      <td>28</td>\n",
       "    </tr>\n",
       "    <tr>\n",
       "      <th>1458</th>\n",
       "      <td>2015-12-29</td>\n",
       "      <td>0.0</td>\n",
       "      <td>7.2</td>\n",
       "      <td>0.6</td>\n",
       "      <td>2.6</td>\n",
       "      <td>fog</td>\n",
       "      <td>2015</td>\n",
       "      <td>12</td>\n",
       "      <td>29</td>\n",
       "    </tr>\n",
       "    <tr>\n",
       "      <th>1459</th>\n",
       "      <td>2015-12-30</td>\n",
       "      <td>0.0</td>\n",
       "      <td>5.6</td>\n",
       "      <td>-1.0</td>\n",
       "      <td>3.4</td>\n",
       "      <td>sun</td>\n",
       "      <td>2015</td>\n",
       "      <td>12</td>\n",
       "      <td>30</td>\n",
       "    </tr>\n",
       "    <tr>\n",
       "      <th>1460</th>\n",
       "      <td>2015-12-31</td>\n",
       "      <td>0.0</td>\n",
       "      <td>5.6</td>\n",
       "      <td>-2.1</td>\n",
       "      <td>3.5</td>\n",
       "      <td>sun</td>\n",
       "      <td>2015</td>\n",
       "      <td>12</td>\n",
       "      <td>31</td>\n",
       "    </tr>\n",
       "  </tbody>\n",
       "</table>\n",
       "<p>1461 rows × 9 columns</p>\n",
       "</div>"
      ],
      "text/plain": [
       "           date  precipitation  temp_max  temp_min  wind  weather  year  \\\n",
       "0    2012-01-01            0.0      12.8       5.0   4.7  drizzle  2012   \n",
       "1    2012-01-02           10.9      10.6       2.8   4.5     rain  2012   \n",
       "2    2012-01-03            0.8      11.7       7.2   2.3     rain  2012   \n",
       "3    2012-01-04           20.3      12.2       5.6   4.7     rain  2012   \n",
       "4    2012-01-05            1.3       8.9       2.8   6.1     rain  2012   \n",
       "...         ...            ...       ...       ...   ...      ...   ...   \n",
       "1456 2015-12-27            8.6       4.4       1.7   2.9     rain  2015   \n",
       "1457 2015-12-28            1.5       5.0       1.7   1.3     rain  2015   \n",
       "1458 2015-12-29            0.0       7.2       0.6   2.6      fog  2015   \n",
       "1459 2015-12-30            0.0       5.6      -1.0   3.4      sun  2015   \n",
       "1460 2015-12-31            0.0       5.6      -2.1   3.5      sun  2015   \n",
       "\n",
       "      month  day  \n",
       "0         1    1  \n",
       "1         1    2  \n",
       "2         1    3  \n",
       "3         1    4  \n",
       "4         1    5  \n",
       "...     ...  ...  \n",
       "1456     12   27  \n",
       "1457     12   28  \n",
       "1458     12   29  \n",
       "1459     12   30  \n",
       "1460     12   31  \n",
       "\n",
       "[1461 rows x 9 columns]"
      ]
     },
     "execution_count": 12,
     "metadata": {},
     "output_type": "execute_result"
    }
   ],
   "source": [
    "data"
   ]
  },
  {
   "cell_type": "code",
   "execution_count": 13,
   "id": "c8891512",
   "metadata": {
    "execution": {
     "iopub.execute_input": "2024-04-02T00:12:03.033864Z",
     "iopub.status.busy": "2024-04-02T00:12:03.033419Z",
     "iopub.status.idle": "2024-04-02T00:12:03.040110Z",
     "shell.execute_reply": "2024-04-02T00:12:03.038900Z"
    },
    "papermill": {
     "duration": 0.022961,
     "end_time": "2024-04-02T00:12:03.042502",
     "exception": false,
     "start_time": "2024-04-02T00:12:03.019541",
     "status": "completed"
    },
    "tags": []
   },
   "outputs": [],
   "source": [
    "le = LabelEncoder()\n",
    "\n",
    "data['weather_label'] = le.fit_transform(data['weather'])"
   ]
  },
  {
   "cell_type": "code",
   "execution_count": 14,
   "id": "3c349f3f",
   "metadata": {
    "execution": {
     "iopub.execute_input": "2024-04-02T00:12:03.068395Z",
     "iopub.status.busy": "2024-04-02T00:12:03.067971Z",
     "iopub.status.idle": "2024-04-02T00:12:03.073785Z",
     "shell.execute_reply": "2024-04-02T00:12:03.072806Z"
    },
    "papermill": {
     "duration": 0.021334,
     "end_time": "2024-04-02T00:12:03.075932",
     "exception": false,
     "start_time": "2024-04-02T00:12:03.054598",
     "status": "completed"
    },
    "tags": []
   },
   "outputs": [],
   "source": [
    "# Create a dictionary mapping weather labels to weather values\n",
    "weather_dict = {label: value for label, value in zip(data['weather_label'], data['weather'])}\n"
   ]
  },
  {
   "cell_type": "code",
   "execution_count": 15,
   "id": "349140e8",
   "metadata": {
    "execution": {
     "iopub.execute_input": "2024-04-02T00:12:03.101333Z",
     "iopub.status.busy": "2024-04-02T00:12:03.100903Z",
     "iopub.status.idle": "2024-04-02T00:12:03.117229Z",
     "shell.execute_reply": "2024-04-02T00:12:03.116105Z"
    },
    "papermill": {
     "duration": 0.032282,
     "end_time": "2024-04-02T00:12:03.119911",
     "exception": false,
     "start_time": "2024-04-02T00:12:03.087629",
     "status": "completed"
    },
    "tags": []
   },
   "outputs": [
    {
     "name": "stdout",
     "output_type": "stream",
     "text": [
      "            precipitation  temp_max  temp_min  wind  year  month  day  \\\n",
      "date                                                                    \n",
      "2012-01-01            0.0      12.8       5.0   4.7  2012      1    1   \n",
      "2012-01-02           10.9      10.6       2.8   4.5  2012      1    2   \n",
      "2012-01-03            0.8      11.7       7.2   2.3  2012      1    3   \n",
      "2012-01-04           20.3      12.2       5.6   4.7  2012      1    4   \n",
      "2012-01-05            1.3       8.9       2.8   6.1  2012      1    5   \n",
      "\n",
      "            weather_label  \n",
      "date                       \n",
      "2012-01-01              0  \n",
      "2012-01-02              2  \n",
      "2012-01-03              2  \n",
      "2012-01-04              2  \n",
      "2012-01-05              2  \n"
     ]
    }
   ],
   "source": [
    "# Drop the 'weather' column and set 'date' as the index in one line\n",
    "data = data.drop('weather', axis=1).set_index('date')\n",
    "\n",
    "# Display the first few rows of the modified DataFrame\n",
    "print(data.head())"
   ]
  },
  {
   "cell_type": "markdown",
   "id": "0c2aa47e",
   "metadata": {
    "papermill": {
     "duration": 0.01139,
     "end_time": "2024-04-02T00:12:03.143166",
     "exception": false,
     "start_time": "2024-04-02T00:12:03.131776",
     "status": "completed"
    },
    "tags": []
   },
   "source": [
    "# Divide the dataset into features (X) and target variable (y)"
   ]
  },
  {
   "cell_type": "code",
   "execution_count": 16,
   "id": "ad08c0e8",
   "metadata": {
    "execution": {
     "iopub.execute_input": "2024-04-02T00:12:03.169073Z",
     "iopub.status.busy": "2024-04-02T00:12:03.168302Z",
     "iopub.status.idle": "2024-04-02T00:12:03.174792Z",
     "shell.execute_reply": "2024-04-02T00:12:03.173555Z"
    },
    "papermill": {
     "duration": 0.021962,
     "end_time": "2024-04-02T00:12:03.177134",
     "exception": false,
     "start_time": "2024-04-02T00:12:03.155172",
     "status": "completed"
    },
    "tags": []
   },
   "outputs": [],
   "source": [
    "# Split the data into features (X) and target variable (y)\n",
    "x = data.drop([\"weather_label\"], axis= 1)\n",
    "y = data[\"weather_label\"]"
   ]
  },
  {
   "cell_type": "markdown",
   "id": "602a3d6c",
   "metadata": {
    "papermill": {
     "duration": 0.01144,
     "end_time": "2024-04-02T00:12:03.200338",
     "exception": false,
     "start_time": "2024-04-02T00:12:03.188898",
     "status": "completed"
    },
    "tags": []
   },
   "source": [
    "# Split the data into training and testing sets"
   ]
  },
  {
   "cell_type": "code",
   "execution_count": 17,
   "id": "743be0b3",
   "metadata": {
    "execution": {
     "iopub.execute_input": "2024-04-02T00:12:03.226762Z",
     "iopub.status.busy": "2024-04-02T00:12:03.226309Z",
     "iopub.status.idle": "2024-04-02T00:12:03.235989Z",
     "shell.execute_reply": "2024-04-02T00:12:03.234793Z"
    },
    "papermill": {
     "duration": 0.026258,
     "end_time": "2024-04-02T00:12:03.238421",
     "exception": false,
     "start_time": "2024-04-02T00:12:03.212163",
     "status": "completed"
    },
    "tags": []
   },
   "outputs": [],
   "source": [
    "# Split the data into training and testing sets\n",
    "x_train, x_test ,y_train ,y_test = train_test_split(x,y, test_size=0.2,random_state=2)"
   ]
  },
  {
   "cell_type": "markdown",
   "id": "fd89843d",
   "metadata": {
    "papermill": {
     "duration": 0.011694,
     "end_time": "2024-04-02T00:12:03.262242",
     "exception": false,
     "start_time": "2024-04-02T00:12:03.250548",
     "status": "completed"
    },
    "tags": []
   },
   "source": [
    "# Model Building"
   ]
  },
  {
   "cell_type": "code",
   "execution_count": 18,
   "id": "e16adf7b",
   "metadata": {
    "execution": {
     "iopub.execute_input": "2024-04-02T00:12:03.287988Z",
     "iopub.status.busy": "2024-04-02T00:12:03.287535Z",
     "iopub.status.idle": "2024-04-02T00:12:03.292705Z",
     "shell.execute_reply": "2024-04-02T00:12:03.291535Z"
    },
    "papermill": {
     "duration": 0.02057,
     "end_time": "2024-04-02T00:12:03.294882",
     "exception": false,
     "start_time": "2024-04-02T00:12:03.274312",
     "status": "completed"
    },
    "tags": []
   },
   "outputs": [],
   "source": [
    "# Create a  Decision Tree Classifier\n",
    "model = DecisionTreeClassifier(max_leaf_nodes=10, random_state=42)\n"
   ]
  },
  {
   "cell_type": "markdown",
   "id": "cec25096",
   "metadata": {
    "papermill": {
     "duration": 0.0117,
     "end_time": "2024-04-02T00:12:03.318655",
     "exception": false,
     "start_time": "2024-04-02T00:12:03.306955",
     "status": "completed"
    },
    "tags": []
   },
   "source": [
    "# Train the model"
   ]
  },
  {
   "cell_type": "code",
   "execution_count": 19,
   "id": "38e1c938",
   "metadata": {
    "execution": {
     "iopub.execute_input": "2024-04-02T00:12:03.345007Z",
     "iopub.status.busy": "2024-04-02T00:12:03.344512Z",
     "iopub.status.idle": "2024-04-02T00:12:03.363012Z",
     "shell.execute_reply": "2024-04-02T00:12:03.361987Z"
    },
    "papermill": {
     "duration": 0.034577,
     "end_time": "2024-04-02T00:12:03.365401",
     "exception": false,
     "start_time": "2024-04-02T00:12:03.330824",
     "status": "completed"
    },
    "tags": []
   },
   "outputs": [
    {
     "data": {
      "text/html": [
       "<style>#sk-container-id-1 {color: black;background-color: white;}#sk-container-id-1 pre{padding: 0;}#sk-container-id-1 div.sk-toggleable {background-color: white;}#sk-container-id-1 label.sk-toggleable__label {cursor: pointer;display: block;width: 100%;margin-bottom: 0;padding: 0.3em;box-sizing: border-box;text-align: center;}#sk-container-id-1 label.sk-toggleable__label-arrow:before {content: \"▸\";float: left;margin-right: 0.25em;color: #696969;}#sk-container-id-1 label.sk-toggleable__label-arrow:hover:before {color: black;}#sk-container-id-1 div.sk-estimator:hover label.sk-toggleable__label-arrow:before {color: black;}#sk-container-id-1 div.sk-toggleable__content {max-height: 0;max-width: 0;overflow: hidden;text-align: left;background-color: #f0f8ff;}#sk-container-id-1 div.sk-toggleable__content pre {margin: 0.2em;color: black;border-radius: 0.25em;background-color: #f0f8ff;}#sk-container-id-1 input.sk-toggleable__control:checked~div.sk-toggleable__content {max-height: 200px;max-width: 100%;overflow: auto;}#sk-container-id-1 input.sk-toggleable__control:checked~label.sk-toggleable__label-arrow:before {content: \"▾\";}#sk-container-id-1 div.sk-estimator input.sk-toggleable__control:checked~label.sk-toggleable__label {background-color: #d4ebff;}#sk-container-id-1 div.sk-label input.sk-toggleable__control:checked~label.sk-toggleable__label {background-color: #d4ebff;}#sk-container-id-1 input.sk-hidden--visually {border: 0;clip: rect(1px 1px 1px 1px);clip: rect(1px, 1px, 1px, 1px);height: 1px;margin: -1px;overflow: hidden;padding: 0;position: absolute;width: 1px;}#sk-container-id-1 div.sk-estimator {font-family: monospace;background-color: #f0f8ff;border: 1px dotted black;border-radius: 0.25em;box-sizing: border-box;margin-bottom: 0.5em;}#sk-container-id-1 div.sk-estimator:hover {background-color: #d4ebff;}#sk-container-id-1 div.sk-parallel-item::after {content: \"\";width: 100%;border-bottom: 1px solid gray;flex-grow: 1;}#sk-container-id-1 div.sk-label:hover label.sk-toggleable__label {background-color: #d4ebff;}#sk-container-id-1 div.sk-serial::before {content: \"\";position: absolute;border-left: 1px solid gray;box-sizing: border-box;top: 0;bottom: 0;left: 50%;z-index: 0;}#sk-container-id-1 div.sk-serial {display: flex;flex-direction: column;align-items: center;background-color: white;padding-right: 0.2em;padding-left: 0.2em;position: relative;}#sk-container-id-1 div.sk-item {position: relative;z-index: 1;}#sk-container-id-1 div.sk-parallel {display: flex;align-items: stretch;justify-content: center;background-color: white;position: relative;}#sk-container-id-1 div.sk-item::before, #sk-container-id-1 div.sk-parallel-item::before {content: \"\";position: absolute;border-left: 1px solid gray;box-sizing: border-box;top: 0;bottom: 0;left: 50%;z-index: -1;}#sk-container-id-1 div.sk-parallel-item {display: flex;flex-direction: column;z-index: 1;position: relative;background-color: white;}#sk-container-id-1 div.sk-parallel-item:first-child::after {align-self: flex-end;width: 50%;}#sk-container-id-1 div.sk-parallel-item:last-child::after {align-self: flex-start;width: 50%;}#sk-container-id-1 div.sk-parallel-item:only-child::after {width: 0;}#sk-container-id-1 div.sk-dashed-wrapped {border: 1px dashed gray;margin: 0 0.4em 0.5em 0.4em;box-sizing: border-box;padding-bottom: 0.4em;background-color: white;}#sk-container-id-1 div.sk-label label {font-family: monospace;font-weight: bold;display: inline-block;line-height: 1.2em;}#sk-container-id-1 div.sk-label-container {text-align: center;}#sk-container-id-1 div.sk-container {/* jupyter's `normalize.less` sets `[hidden] { display: none; }` but bootstrap.min.css set `[hidden] { display: none !important; }` so we also need the `!important` here to be able to override the default hidden behavior on the sphinx rendered scikit-learn.org. See: https://github.com/scikit-learn/scikit-learn/issues/21755 */display: inline-block !important;position: relative;}#sk-container-id-1 div.sk-text-repr-fallback {display: none;}</style><div id=\"sk-container-id-1\" class=\"sk-top-container\"><div class=\"sk-text-repr-fallback\"><pre>DecisionTreeClassifier(max_leaf_nodes=10, random_state=42)</pre><b>In a Jupyter environment, please rerun this cell to show the HTML representation or trust the notebook. <br />On GitHub, the HTML representation is unable to render, please try loading this page with nbviewer.org.</b></div><div class=\"sk-container\" hidden><div class=\"sk-item\"><div class=\"sk-estimator sk-toggleable\"><input class=\"sk-toggleable__control sk-hidden--visually\" id=\"sk-estimator-id-1\" type=\"checkbox\" checked><label for=\"sk-estimator-id-1\" class=\"sk-toggleable__label sk-toggleable__label-arrow\">DecisionTreeClassifier</label><div class=\"sk-toggleable__content\"><pre>DecisionTreeClassifier(max_leaf_nodes=10, random_state=42)</pre></div></div></div></div></div>"
      ],
      "text/plain": [
       "DecisionTreeClassifier(max_leaf_nodes=10, random_state=42)"
      ]
     },
     "execution_count": 19,
     "metadata": {},
     "output_type": "execute_result"
    }
   ],
   "source": [
    "# Train the model\n",
    "model.fit(x_train, y_train)\n"
   ]
  },
  {
   "cell_type": "markdown",
   "id": "abbeacc0",
   "metadata": {
    "papermill": {
     "duration": 0.012805,
     "end_time": "2024-04-02T00:12:03.391970",
     "exception": false,
     "start_time": "2024-04-02T00:12:03.379165",
     "status": "completed"
    },
    "tags": []
   },
   "source": [
    "# Predictions"
   ]
  },
  {
   "cell_type": "code",
   "execution_count": 20,
   "id": "e05b44bf",
   "metadata": {
    "execution": {
     "iopub.execute_input": "2024-04-02T00:12:03.418755Z",
     "iopub.status.busy": "2024-04-02T00:12:03.418284Z",
     "iopub.status.idle": "2024-04-02T00:12:03.425721Z",
     "shell.execute_reply": "2024-04-02T00:12:03.424541Z"
    },
    "papermill": {
     "duration": 0.024017,
     "end_time": "2024-04-02T00:12:03.428346",
     "exception": false,
     "start_time": "2024-04-02T00:12:03.404329",
     "status": "completed"
    },
    "tags": []
   },
   "outputs": [],
   "source": [
    "# Make predictions on the test set\n",
    "predictions = model.predict(x_test)"
   ]
  },
  {
   "cell_type": "markdown",
   "id": "db351aea",
   "metadata": {
    "papermill": {
     "duration": 0.012802,
     "end_time": "2024-04-02T00:12:03.454099",
     "exception": false,
     "start_time": "2024-04-02T00:12:03.441297",
     "status": "completed"
    },
    "tags": []
   },
   "source": [
    "# Evaluation"
   ]
  },
  {
   "cell_type": "code",
   "execution_count": 21,
   "id": "85fe31f7",
   "metadata": {
    "execution": {
     "iopub.execute_input": "2024-04-02T00:12:03.482298Z",
     "iopub.status.busy": "2024-04-02T00:12:03.481832Z",
     "iopub.status.idle": "2024-04-02T00:12:03.488453Z",
     "shell.execute_reply": "2024-04-02T00:12:03.487325Z"
    },
    "papermill": {
     "duration": 0.024446,
     "end_time": "2024-04-02T00:12:03.491780",
     "exception": false,
     "start_time": "2024-04-02T00:12:03.467334",
     "status": "completed"
    },
    "tags": []
   },
   "outputs": [
    {
     "name": "stdout",
     "output_type": "stream",
     "text": [
      "Root Mean Squared Error: 1.0\n"
     ]
    }
   ],
   "source": [
    "mse = mean_squared_error(y_test, predictions)\n",
    "rmse = mse ** 0.5\n",
    "print(\"Root Mean Squared Error:\", rmse)"
   ]
  },
  {
   "cell_type": "code",
   "execution_count": 22,
   "id": "6a043ec4",
   "metadata": {
    "execution": {
     "iopub.execute_input": "2024-04-02T00:12:03.519637Z",
     "iopub.status.busy": "2024-04-02T00:12:03.519232Z",
     "iopub.status.idle": "2024-04-02T00:12:03.529362Z",
     "shell.execute_reply": "2024-04-02T00:12:03.528424Z"
    },
    "papermill": {
     "duration": 0.027215,
     "end_time": "2024-04-02T00:12:03.532293",
     "exception": false,
     "start_time": "2024-04-02T00:12:03.505078",
     "status": "completed"
    },
    "tags": []
   },
   "outputs": [],
   "source": [
    "pred_train = model.predict(x_train)\n",
    "pred_test = model.predict(x_test)"
   ]
  },
  {
   "cell_type": "code",
   "execution_count": 23,
   "id": "65ad1923",
   "metadata": {
    "execution": {
     "iopub.execute_input": "2024-04-02T00:12:03.562050Z",
     "iopub.status.busy": "2024-04-02T00:12:03.561394Z",
     "iopub.status.idle": "2024-04-02T00:12:03.570095Z",
     "shell.execute_reply": "2024-04-02T00:12:03.568564Z"
    },
    "papermill": {
     "duration": 0.026809,
     "end_time": "2024-04-02T00:12:03.572555",
     "exception": false,
     "start_time": "2024-04-02T00:12:03.545746",
     "status": "completed"
    },
    "tags": []
   },
   "outputs": [
    {
     "name": "stdout",
     "output_type": "stream",
     "text": [
      "Accuracy Score on Train Data : 86.13%\n",
      "Accuracy Score on Test Data : 88.74%\n"
     ]
    }
   ],
   "source": [
    "# Assuming y_train, pred_train, y_test, and pred_test are defined correctly\n",
    "train_accuracy = accuracy_score(y_train, pred_train)\n",
    "test_accuracy = accuracy_score(y_test, pred_test)\n",
    "\n",
    "print('Accuracy Score on Train Data : {:.2f}%'.format(train_accuracy * 100))\n",
    "print('Accuracy Score on Test Data : {:.2f}%'.format(test_accuracy * 100))"
   ]
  },
  {
   "cell_type": "code",
   "execution_count": null,
   "id": "0c13fa0d",
   "metadata": {
    "papermill": {
     "duration": 0.013199,
     "end_time": "2024-04-02T00:12:03.599321",
     "exception": false,
     "start_time": "2024-04-02T00:12:03.586122",
     "status": "completed"
    },
    "tags": []
   },
   "outputs": [],
   "source": []
  }
 ],
 "metadata": {
  "kaggle": {
   "accelerator": "none",
   "dataSources": [
    {
     "datasetId": 1868601,
     "sourceId": 3051857,
     "sourceType": "datasetVersion"
    }
   ],
   "dockerImageVersionId": 30673,
   "isGpuEnabled": false,
   "isInternetEnabled": true,
   "language": "python",
   "sourceType": "notebook"
  },
  "kernelspec": {
   "display_name": "Python 3",
   "language": "python",
   "name": "python3"
  },
  "language_info": {
   "codemirror_mode": {
    "name": "ipython",
    "version": 3
   },
   "file_extension": ".py",
   "mimetype": "text/x-python",
   "name": "python",
   "nbconvert_exporter": "python",
   "pygments_lexer": "ipython3",
   "version": "3.10.13"
  },
  "papermill": {
   "default_parameters": {},
   "duration": 9.580467,
   "end_time": "2024-04-02T00:12:04.335029",
   "environment_variables": {},
   "exception": null,
   "input_path": "__notebook__.ipynb",
   "output_path": "__notebook__.ipynb",
   "parameters": {},
   "start_time": "2024-04-02T00:11:54.754562",
   "version": "2.5.0"
  }
 },
 "nbformat": 4,
 "nbformat_minor": 5
}
